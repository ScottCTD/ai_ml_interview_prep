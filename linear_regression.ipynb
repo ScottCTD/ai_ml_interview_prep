{
 "cells": [
  {
   "cell_type": "code",
   "execution_count": 8,
   "id": "4c1170d8",
   "metadata": {},
   "outputs": [],
   "source": [
    "import numpy as np\n",
    "\n",
    "class LinearRegressionGD:\n",
    "    \n",
    "    def __init__(self):\n",
    "        self.weights = None\n",
    "    \n",
    "    def fit(self, X, y, lr=0.1, num_epochs=1000):\n",
    "        B, D = X.shape\n",
    "\n",
    "        self.weights = np.zeros([D + 1,])  # + 1 for bias\n",
    "        X = np.concatenate([X, np.ones((B, 1))], axis=1)  # (B, D + 1)\n",
    "        \n",
    "        for epoch in range(num_epochs):\n",
    "            # forward pass\n",
    "            y_pred = np.matmul(X, self.weights)\n",
    "            \n",
    "            # compute loss\n",
    "            loss = np.mean((y_pred - y) ** 2)\n",
    "            \n",
    "            # backward pass\n",
    "            grad_loss = 2 * (y_pred - y)  # (B,)\n",
    "            grad = grad_loss @ X  # (D + 1,)\n",
    "            grad /= B\n",
    "\n",
    "            # optimizer.step\n",
    "            self.weights -= lr * grad\n",
    "\n",
    "            # logging\n",
    "            if epoch % 100 == 0:\n",
    "                print(f\"[{epoch}] {loss=}\")\n",
    "\n",
    "    def predict(self, X):\n",
    "        B, _ = X.shape\n",
    "        X = np.concatenate([X, np.ones((B, 1))], axis=1)  # (B, D + 1)\n",
    "        # (B, D+1) @ (D+1,) -> (B,)\n",
    "        y_pred = X @ self.weights\n",
    "        return y_pred"
   ]
  },
  {
   "cell_type": "code",
   "execution_count": 9,
   "id": "a93911ab",
   "metadata": {},
   "outputs": [
    {
     "name": "stdout",
     "output_type": "stream",
     "text": [
      "[0] loss=np.float64(0.4166666666666667)\n",
      "[100] loss=np.float64(0.00040191591113936787)\n",
      "[200] loss=np.float64(3.094567568025492e-06)\n",
      "[300] loss=np.float64(2.3826746261246055e-08)\n",
      "[400] loss=np.float64(1.834549819708184e-10)\n",
      "[500] loss=np.float64(1.4125189415293045e-12)\n",
      "[600] loss=np.float64(1.0875745851353692e-14)\n",
      "[700] loss=np.float64(8.373823890849441e-17)\n",
      "[800] loss=np.float64(6.447459083887788e-19)\n",
      "[900] loss=np.float64(4.964251992539865e-21)\n",
      "[ 0.5 -0.5]\n",
      "[2.  2.5 4.5]\n"
     ]
    }
   ],
   "source": [
    "X = np.array([\n",
    "    [1],\n",
    "    [2],\n",
    "    [3],\n",
    "])\n",
    "\n",
    "y = np.array([0, 0.5, 1.0])\n",
    "\n",
    "linear_regression = LinearRegressionGD()\n",
    "\n",
    "linear_regression.fit(X, y)\n",
    "\n",
    "print(linear_regression.weights)  # should be around [0.5, -0.5]\n",
    "\n",
    "X_pred = np.array([\n",
    "    [5],\n",
    "    [6],\n",
    "    [10],\n",
    "])\n",
    "print(linear_regression.predict(X_pred))"
   ]
  },
  {
   "cell_type": "code",
   "execution_count": null,
   "id": "379f47cc",
   "metadata": {},
   "outputs": [],
   "source": []
  }
 ],
 "metadata": {
  "kernelspec": {
   "display_name": ".venv",
   "language": "python",
   "name": "python3"
  },
  "language_info": {
   "codemirror_mode": {
    "name": "ipython",
    "version": 3
   },
   "file_extension": ".py",
   "mimetype": "text/x-python",
   "name": "python",
   "nbconvert_exporter": "python",
   "pygments_lexer": "ipython3",
   "version": "3.11.13"
  }
 },
 "nbformat": 4,
 "nbformat_minor": 5
}
