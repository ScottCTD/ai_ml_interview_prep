{
 "cells": [
  {
   "cell_type": "code",
   "execution_count": null,
   "id": "fae20c38",
   "metadata": {},
   "outputs": [],
   "source": [
    "from typing import List\n",
    "\n",
    "\n",
    "def gae(\n",
    "    rewards: List[float],\n",
    "    values: List[float],\n",
    "    dones: List[bool] | None = None,\n",
    "    last_value: float = 0.0,\n",
    "    gamma: float = 0.99,\n",
    "    lambda_: float = 0.95,\n",
    "):\n",
    "    T = len(rewards)\n",
    "    assert len(values) == T\n",
    "    if dones is None:\n",
    "        dones = [False] * T\n",
    "\n",
    "    adv = [0] * T\n",
    "    gae_t = 0.0\n",
    "    for t in range(T - 1, -1, -1):\n",
    "        next_value = last_value if t == T - 1 else values[t + 1]\n",
    "        mask = 0.0 if dones[t] else 1.0\n",
    "        delta = rewards[t] + gamma * mask * next_value - values[t]\n",
    "        gae_t = delta + gamma * lambda_ * mask * gae_t\n",
    "        adv[t] = gae_t\n",
    "    return adv"
   ]
  },
  {
   "cell_type": "code",
   "execution_count": null,
   "id": "9d18a7c0",
   "metadata": {},
   "outputs": [],
   "source": []
  }
 ],
 "metadata": {
  "language_info": {
   "name": "python"
  }
 },
 "nbformat": 4,
 "nbformat_minor": 5
}
