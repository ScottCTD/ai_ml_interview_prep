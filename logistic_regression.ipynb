{
 "cells": [
  {
   "cell_type": "code",
   "execution_count": null,
   "id": "619506e6",
   "metadata": {},
   "outputs": [],
   "source": [
    "import numpy as np\n",
    "\n",
    "def sigmoid(x):\n",
    "    return 1 / (1 + np.exp(-x))\n",
    "\n",
    "class LogisticRegression:\n",
    "    \n",
    "    def __init__(self):\n",
    "        self.weights = None\n",
    "    \n",
    "    def fit(self, X, y, lr=0.1, num_epochs=1000):\n",
    "        B, D = X.shape\n",
    "\n",
    "        self.weights = np.zeros([D + 1,])  # + 1 for bias\n",
    "        X = np.concatenate([X, np.ones((B, 1))], axis=1)  # (B, D + 1)\n",
    "        \n",
    "        for epoch in range(num_epochs):\n",
    "            # forward pass\n",
    "            y_pred = sigmoid(np.matmul(X, self.weights))\n",
    "            \n",
    "            # compute loss\n",
    "            loss = np.mean(-(y * np.log(y_pred) + (1 - y) * np.log(1 - y_pred)))\n",
    "            \n",
    "            # backward pass\n",
    "            # the gradient is derived by noting sigmoid derivative is dy/yz = y(1-y)\n",
    "            dw = 1/B * (y_pred - y) @ X\n",
    "\n",
    "            # optimizer.step\n",
    "            self.weights -= lr * dw\n",
    "\n",
    "            # logging\n",
    "            if epoch % 100 == 0:\n",
    "                print(f\"[{epoch}] {loss=}\")\n",
    "\n",
    "    def predict(self, X):\n",
    "        B, _ = X.shape\n",
    "        X = np.concatenate([X, np.ones((B, 1))], axis=1)  # (B, D + 1)\n",
    "        # (B, D+1) @ (D+1,) -> (B,)\n",
    "        z = X @ self.weights\n",
    "        y_pred = sigmoid(z)\n",
    "        return np.round(y_pred).astype(int)"
   ]
  },
  {
   "cell_type": "code",
   "execution_count": 6,
   "id": "d5d7d9f5",
   "metadata": {},
   "outputs": [
    {
     "name": "stdout",
     "output_type": "stream",
     "text": [
      "[0] loss=np.float64(0.6931471805599453)\n",
      "[100] loss=np.float64(0.37488326346527207)\n",
      "[200] loss=np.float64(0.2851925734675084)\n",
      "[300] loss=np.float64(0.235160665788768)\n",
      "[400] loss=np.float64(0.20321035422047187)\n",
      "[500] loss=np.float64(0.18080660642011545)\n",
      "[600] loss=np.float64(0.16404152165461117)\n",
      "[700] loss=np.float64(0.15089620345923596)\n",
      "[800] loss=np.float64(0.14022541897568153)\n",
      "[900] loss=np.float64(0.13133054373171243)\n",
      "[1 1]\n"
     ]
    }
   ],
   "source": [
    "# create sample dataset\n",
    "X = np.array([[1, 2], [2, 3], [3, 4], [4, 5], [5, 6]])\n",
    "y = np.array([0, 0, 1, 1, 1])\n",
    "\n",
    "# initialize logistic regression model\n",
    "lr = LogisticRegression()\n",
    "\n",
    "# train model on sample dataset\n",
    "lr.fit(X, y)\n",
    "\n",
    "# make predictions on new data\n",
    "X_new = np.array([[6, 7], [7, 8]])\n",
    "y_pred = lr.predict(X_new)\n",
    "\n",
    "print(y_pred)  # [1, 1]"
   ]
  }
 ],
 "metadata": {
  "kernelspec": {
   "display_name": ".venv",
   "language": "python",
   "name": "python3"
  },
  "language_info": {
   "codemirror_mode": {
    "name": "ipython",
    "version": 3
   },
   "file_extension": ".py",
   "mimetype": "text/x-python",
   "name": "python",
   "nbconvert_exporter": "python",
   "pygments_lexer": "ipython3",
   "version": "3.11.13"
  }
 },
 "nbformat": 4,
 "nbformat_minor": 5
}
