{
 "cells": [
  {
   "cell_type": "code",
   "execution_count": 9,
   "id": "0d890a77",
   "metadata": {},
   "outputs": [
    {
     "name": "stdout",
     "output_type": "stream",
     "text": [
      "[[ 1  3  0]\n",
      " [ 5  7  4]\n",
      " [ 9 11  8]]\n",
      "[1 7 8]\n"
     ]
    }
   ],
   "source": [
    "import numpy as np\n",
    "\n",
    "A = np.arange(12).reshape(3, 4)  # shape (3,4)\n",
    "# [[ 0, 1, 2, 3],\n",
    "#  [ 4, 5, 6, 7],\n",
    "#  [ 8, 9,10,11]]\n",
    "y = np.array([1, 3, 0])          # per-row target columns\n",
    "\n",
    "print(A[:, y])\n",
    "# shape (3,3): columns [1,3,0] for EVERY row\n",
    "# [[ 1, 3, 0],\n",
    "#  [ 5, 7, 4],\n",
    "#  [ 9,11, 8]]\n",
    "\n",
    "print(A[np.arange(3), y])\n",
    "# shape (3,): pairwise picks -> [1, 7, 8]\n"
   ]
  },
  {
   "cell_type": "code",
   "execution_count": null,
   "id": "9b4935bd",
   "metadata": {},
   "outputs": [],
   "source": [
    "import numpy as np\n",
    "\n",
    "\n",
    "def sigmoid(x):\n",
    "    return 1 / (1 + np.exp(-x))\n",
    "\n",
    "\n",
    "def softmax(x):\n",
    "    x = x - np.max(x, axis=1, keepdims=True)\n",
    "    expx = np.exp(x)\n",
    "    return expx / np.sum(expx, axis=1, keepdims=True)\n",
    "\n",
    "\n",
    "class Linear:\n",
    "\n",
    "    def __init__(self, in_size, hidden_size, out_size):\n",
    "        self.in_size = in_size\n",
    "        self.hidden_size = hidden_size\n",
    "        self.out_size = out_size\n",
    "\n",
    "        self.W1 = np.random.randn(in_size, hidden_size)\n",
    "        self.b1 = np.zeros((hidden_size,))\n",
    "        self.W2 = np.random.randn(hidden_size, out_size)\n",
    "        self.b2 = np.zeros((out_size,))\n",
    "\n",
    "    def forward(self, X):\n",
    "        h1 = X @ self.W1 + self.b1\n",
    "        a1 = np.where(h1 > 0, h1, 0)  # ReLU\n",
    "        logits = a1 @ self.W2 + self.b2\n",
    "        y_pred = softmax(logits)\n",
    "        return y_pred\n",
    "\n",
    "    def fit(self, X, y, lr=0.1, num_epochs=1000):\n",
    "        B, _ = X.shape\n",
    "        for epoch in range(num_epochs):\n",
    "            # forward pass\n",
    "            h = X @ self.W1 + self.b1\n",
    "            a = np.where(h > 0, h, 0)  # (B, hidden_size)\n",
    "            z = a @ self.W2 + self.b2\n",
    "            # TODO: we can implement a even more stable CE by using full log-sum-exp trick \n",
    "            y_pred = softmax(z)\n",
    "\n",
    "            # compute loss\n",
    "            # cross entropy with constant label\n",
    "            loss = np.mean(-np.log(y_pred[np.arange(B), y]))\n",
    "\n",
    "            # backward pass\n",
    "            dz = y_pred\n",
    "            dz[np.arange(B), y] -= 1  # y - t for true labels, (B, out)\n",
    "            dz /= B\n",
    "\n",
    "            dW2 = a.T @ dz  # (hidden_size, out)\n",
    "            db2 = np.sum(dz, axis=0)  # (out, )\n",
    "            dh = np.where(h > 0, 1, 0)  # (B, hidden_size)\n",
    "            dW1 = X.T @ ((dz @ self.W2.T) * dh)  # (input_size, hidden_size)\n",
    "            db1 = np.sum((dz @ self.W2.T) * dh, axis=0)  # (hidden_size, )\n",
    "\n",
    "            # optimizer.step\n",
    "            self.W1 -= lr * dW1\n",
    "            self.b1 -= lr * db1\n",
    "            self.W2 -= lr * dW2\n",
    "            self.b2 -= lr * db2\n",
    "\n",
    "            # logging\n",
    "            if epoch % 100 == 0:\n",
    "                loss = float(loss)\n",
    "                print(f\"[{epoch}] {loss=}\")\n",
    "\n",
    "    def predict(self, X):\n",
    "        probs = self.forward(X)\n",
    "        return np.argmax(probs, axis=1)"
   ]
  },
  {
   "cell_type": "code",
   "execution_count": 11,
   "id": "9e812b10",
   "metadata": {},
   "outputs": [
    {
     "name": "stdout",
     "output_type": "stream",
     "text": [
      "(720,)\n"
     ]
    }
   ],
   "source": [
    "def make_blobs(n_per_class=200, centers=None, std=0.6, seed=7):\n",
    "    rng = np.random.default_rng(seed)\n",
    "    if centers is None:\n",
    "        centers = np.array([[0, 0], [3, 3], [-3, 3]], dtype=float)\n",
    "    X_list, y_list = [], []\n",
    "    for c, mu in enumerate(centers):\n",
    "        Xc = rng.normal(loc=mu, scale=std, size=(n_per_class, len(mu)))\n",
    "        yc = np.full(n_per_class, c, dtype=int)\n",
    "        X_list.append(Xc); y_list.append(yc)\n",
    "    X = np.vstack(X_list)\n",
    "    y = np.concatenate(y_list)\n",
    "    # shuffle\n",
    "    idx = rng.permutation(len(y))\n",
    "    return X[idx], y[idx]\n",
    "\n",
    "# ----- Train/test split -----\n",
    "X, y = make_blobs(n_per_class=300, std=0.7)\n",
    "n = X.shape[0]\n",
    "split = int(0.8 * n)\n",
    "X_train, y_train = X[:split], y[:split]\n",
    "X_test,  y_test  = X[split:], y[split:]\n",
    "\n",
    "print(y_train.shape)"
   ]
  },
  {
   "cell_type": "code",
   "execution_count": 12,
   "id": "bc8d1b03",
   "metadata": {},
   "outputs": [
    {
     "name": "stdout",
     "output_type": "stream",
     "text": [
      "[0] loss=4.901427725148519\n",
      "[100] loss=0.028145309817458546\n",
      "[200] loss=0.014806726227682636\n",
      "[300] loss=0.009798650021765463\n",
      "[400] loss=0.007541345095430231\n",
      "[500] loss=0.006238628255491287\n",
      "[600] loss=0.005357961550273926\n",
      "[700] loss=0.004718240849586416\n",
      "[800] loss=0.004233307325909816\n",
      "[900] loss=0.003852586202244709\n",
      "[1000] loss=0.0035425013323305537\n",
      "[1100] loss=0.003283918762146743\n",
      "[1200] loss=0.0030647214804978068\n",
      "[1300] loss=0.002876166456884398\n",
      "[1400] loss=0.002712076377694536\n",
      "[1500] loss=0.0025677703415072067\n",
      "[1600] loss=0.0024392267816844776\n",
      "[1700] loss=0.0023243318311906816\n",
      "[1800] loss=0.00222097767594377\n",
      "[1900] loss=0.0021275143077050043\n",
      "Test accuracy: 100.00%  (180 samples)\n"
     ]
    }
   ],
   "source": [
    "\n",
    "# ----- Train -----\n",
    "model = Linear(in_size=2, hidden_size=16, out_size=3)\n",
    "model.fit(X_train, y_train, lr=0.1, num_epochs=2000)\n",
    "\n",
    "# ----- Evaluate -----\n",
    "pred = model.predict(X_test)\n",
    "acc = (pred == y_test).mean()\n",
    "print(f\"Test accuracy: {acc*100:.2f}%  ({pred.size} samples)\")"
   ]
  }
 ],
 "metadata": {
  "kernelspec": {
   "display_name": ".venv",
   "language": "python",
   "name": "python3"
  },
  "language_info": {
   "codemirror_mode": {
    "name": "ipython",
    "version": 3
   },
   "file_extension": ".py",
   "mimetype": "text/x-python",
   "name": "python",
   "nbconvert_exporter": "python",
   "pygments_lexer": "ipython3",
   "version": "3.11.13"
  }
 },
 "nbformat": 4,
 "nbformat_minor": 5
}
