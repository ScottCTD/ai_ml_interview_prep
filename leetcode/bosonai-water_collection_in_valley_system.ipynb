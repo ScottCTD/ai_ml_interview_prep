{
 "cells": [
  {
   "cell_type": "code",
   "execution_count": null,
   "id": "2c74b938",
   "metadata": {},
   "outputs": [],
   "source": [
    "# Water Collection in Valley System\n",
    "# Given n non-negative integers representing the depth of valleys in a mountain range where each valley has width 1.\n",
    "# Compute how much water can be collected if water flows from higher elevations and gets trapped in lower areas.\n",
    "\n",
    "# Example 1:\n",
    "# Input: depth = [0,1,0,2,1,0,1,3,2,1,2,1]\n",
    "# Output: 6\n",
    "# Explanation: Water gets trapped in the valleys between higher points.\n",
    "# 3                     __ \n",
    "# 2         __         |  |__    __\n",
    "# 1   __   |  |__    __|     |__|  |__\n",
    "# 0__|  |__|     |__|              \n",
    "#  0  1  0  2  1  0  1  3  2  1  2  1\n",
    "\n",
    "\n",
    "# Example 2:\n",
    "# Input: depth = [4,2,0,3,2,5] \n",
    "# Output: 9\n",
    "\n",
    "\n",
    "def solution(height):\n",
    "    n = len(height)\n",
    "    l, r = 0, 1\n",
    "    lm, rm = height[0], height[1]\n",
    "    ans = 0\n",
    "    cur_water = 0\n",
    "    while r < n:\n",
    "        while r < n and height[r] < lm:\n",
    "            cur_water += lm - height[r]\n",
    "            rm = max(rm, height[r])\n",
    "            r += 1\n",
    "        \n",
    "        if r < n:\n",
    "            lm = height[r]\n",
    "        \n",
    "            l = r\n",
    "            r += 1\n",
    "\n",
    "            ans += cur_water\n",
    "            cur_water = 0\n",
    "        \n",
    "  \n",
    "    if r > l:\n",
    "        for i in range(l, r):\n",
    "            ans += rm - height[i]\n",
    "    return ans\n",
    "\n",
    "\n",
    "def solution(height):\n",
    "    n = len(height)\n",
    "    if n < 3:\n",
    "        return 0\n",
    "\n",
    "    l, r = 0, 1\n",
    "    lm, rm = height[0], height[1]  # rm here is harmless; we recompute it for the tail\n",
    "    ans = 0\n",
    "    cur_water = 0\n",
    "\n",
    "    while r < n:\n",
    "        while r < n and height[r] < lm:\n",
    "            cur_water += lm - height[r]\n",
    "            rm = max(rm, height[r])  # kept, but not relied upon later\n",
    "            r += 1\n",
    "\n",
    "        if r < n:\n",
    "            lm = height[r]\n",
    "            l = r\n",
    "            r += 1\n",
    "            ans += cur_water\n",
    "            cur_water = 0\n",
    "\n",
    "    # Refill the unfinished basin from the right using running right-max\n",
    "    if r > l:\n",
    "        rm = 0\n",
    "        for i in range(r - 1, l - 1, -1):\n",
    "            rm = max(rm, height[i])\n",
    "            ans += rm - height[i]\n",
    "\n",
    "    return ans\n",
    "\n"
   ]
  },
  {
   "cell_type": "code",
   "execution_count": 27,
   "id": "055c4b69",
   "metadata": {},
   "outputs": [
    {
     "name": "stdout",
     "output_type": "stream",
     "text": [
      "9\n"
     ]
    }
   ],
   "source": [
    "height = [4,2,0,3,2,5]\n",
    "print(solution(height))"
   ]
  },
  {
   "cell_type": "code",
   "execution_count": null,
   "id": "000720a2",
   "metadata": {},
   "outputs": [],
   "source": []
  }
 ],
 "metadata": {
  "kernelspec": {
   "display_name": ".venv",
   "language": "python",
   "name": "python3"
  },
  "language_info": {
   "codemirror_mode": {
    "name": "ipython",
    "version": 3
   },
   "file_extension": ".py",
   "mimetype": "text/x-python",
   "name": "python",
   "nbconvert_exporter": "python",
   "pygments_lexer": "ipython3",
   "version": "3.11.13"
  }
 },
 "nbformat": 4,
 "nbformat_minor": 5
}
